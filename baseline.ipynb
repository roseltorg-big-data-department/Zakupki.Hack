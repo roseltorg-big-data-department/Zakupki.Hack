{
 "cells": [
  {
   "cell_type": "code",
   "execution_count": 4,
   "metadata": {},
   "outputs": [],
   "source": [
    "import pandas as pd\n",
    "from tqdm import tqdm_notebook\n",
    "import warnings\n",
    "warnings.filterwarnings('ignore')"
   ]
  },
  {
   "cell_type": "code",
   "execution_count": 5,
   "metadata": {},
   "outputs": [],
   "source": [
    "#считывание данных \n",
    "train_data = pd.read_csv(\"../../data_anon/hack_offline_train_44fz_223fz_data_anon.csv\", sep=';')\n",
    "train_labels = pd.read_csv(\"../../data_anon/hack_offline_train_44fz_223fz_labels_anon.csv\", sep=';')\n",
    "test_data = pd.read_csv(\"../../data_anon/hack_offline_test_44fz_223fz_data_anon.csv\", sep=';')"
   ]
  },
  {
   "cell_type": "code",
   "execution_count": 6,
   "metadata": {},
   "outputs": [],
   "source": [
    "#Заполнение пропусков строкой 'None'\n",
    "train_data = train_data.fillna('None')\n",
    "test_data = test_data.fillna('None')"
   ]
  },
  {
   "cell_type": "markdown",
   "metadata": {},
   "source": [
    "<hr>"
   ]
  },
  {
   "cell_type": "markdown",
   "metadata": {},
   "source": [
    "# Подготовка данных "
   ]
  },
  {
   "cell_type": "markdown",
   "metadata": {},
   "source": [
    "#### Обработка okpd2 и additional_code"
   ]
  },
  {
   "cell_type": "code",
   "execution_count": 7,
   "metadata": {},
   "outputs": [],
   "source": [
    "train_data['okpd2_or_additional_code'] = train_data[['okpd2_code', 'additional_code']].apply(lambda x: x[0] if x[1] == 'None' else x[1], axis=1)\n",
    "test_data['okpd2_or_additional_code'] = test_data[['okpd2_code', 'additional_code']].apply(lambda x: x[0] if x[1] == 'None' else x[1], axis=1)"
   ]
  },
  {
   "cell_type": "code",
   "execution_count": 8,
   "metadata": {},
   "outputs": [
    {
     "data": {
      "text/plain": [
       "drug    65646\n",
       "32.5    36292\n",
       "71.1    17836\n",
       "20.5    15591\n",
       "26.2    14783\n",
       "        ...  \n",
       "78.2        1\n",
       "65.2        1\n",
       "59.0        1\n",
       "70          1\n",
       "98          1\n",
       "Name: okpd2_or_additional_code, Length: 657, dtype: int64"
      ]
     },
     "execution_count": 8,
     "metadata": {},
     "output_type": "execute_result"
    }
   ],
   "source": [
    "#Просмотр частоты значений \n",
    "train_data['okpd2_or_additional_code'].value_counts()"
   ]
  },
  {
   "cell_type": "markdown",
   "metadata": {},
   "source": [
    "#### Формирование описания тендера"
   ]
  },
  {
   "cell_type": "code",
   "execution_count": 9,
   "metadata": {},
   "outputs": [],
   "source": [
    "train_data['text_description_tender'] = train_data['purchase_name'] + \" \" + train_data['lot_name'] + \" \" + train_data['okpd2_names'] + \" \" + train_data['additional_code_names'] + \" \" + train_data['item_descriptions']"
   ]
  },
  {
   "cell_type": "code",
   "execution_count": 10,
   "metadata": {},
   "outputs": [
    {
     "data": {
      "text/html": [
       "<div>\n",
       "<style scoped>\n",
       "    .dataframe tbody tr th:only-of-type {\n",
       "        vertical-align: middle;\n",
       "    }\n",
       "\n",
       "    .dataframe tbody tr th {\n",
       "        vertical-align: top;\n",
       "    }\n",
       "\n",
       "    .dataframe thead th {\n",
       "        text-align: right;\n",
       "    }\n",
       "</style>\n",
       "<table border=\"1\" class=\"dataframe\">\n",
       "  <thead>\n",
       "    <tr style=\"text-align: right;\">\n",
       "      <th></th>\n",
       "      <th>pn_lot_anon</th>\n",
       "      <th>fz</th>\n",
       "      <th>region_code</th>\n",
       "      <th>min_publish_date</th>\n",
       "      <th>purchase_name</th>\n",
       "      <th>lot_name</th>\n",
       "      <th>lot_price</th>\n",
       "      <th>okpd2_code</th>\n",
       "      <th>okpd2_names</th>\n",
       "      <th>additional_code</th>\n",
       "      <th>additional_code_names</th>\n",
       "      <th>item_descriptions</th>\n",
       "      <th>okpd2_or_additional_code</th>\n",
       "      <th>text_description_tender</th>\n",
       "    </tr>\n",
       "  </thead>\n",
       "  <tbody>\n",
       "    <tr>\n",
       "      <th>0</th>\n",
       "      <td>pn_lot_7031618</td>\n",
       "      <td>44fz</td>\n",
       "      <td>2</td>\n",
       "      <td>2019-08-26</td>\n",
       "      <td>Услуги по проведению финансового аудита</td>\n",
       "      <td>None</td>\n",
       "      <td>123500.0</td>\n",
       "      <td>69.2</td>\n",
       "      <td>Услуги по проведению финансового аудита</td>\n",
       "      <td>None</td>\n",
       "      <td>None</td>\n",
       "      <td>Услуги по проведению финансового аудита</td>\n",
       "      <td>69.2</td>\n",
       "      <td>Услуги по проведению финансового аудита None У...</td>\n",
       "    </tr>\n",
       "    <tr>\n",
       "      <th>1</th>\n",
       "      <td>pn_lot_7808247</td>\n",
       "      <td>44fz</td>\n",
       "      <td>2</td>\n",
       "      <td>2019-03-12</td>\n",
       "      <td>Приобретение призов для проведения конкурса по...</td>\n",
       "      <td>None</td>\n",
       "      <td>144000.0</td>\n",
       "      <td>26.4</td>\n",
       "      <td>Телефоны головные, наушники и комбинированные ...</td>\n",
       "      <td>None</td>\n",
       "      <td>None</td>\n",
       "      <td>Телефоны головные, наушники и комбинированные ...</td>\n",
       "      <td>26.4</td>\n",
       "      <td>Приобретение призов для проведения конкурса по...</td>\n",
       "    </tr>\n",
       "    <tr>\n",
       "      <th>2</th>\n",
       "      <td>pn_lot_7009496</td>\n",
       "      <td>44fz</td>\n",
       "      <td>2</td>\n",
       "      <td>2019-03-14</td>\n",
       "      <td>приобретение призов для проведения мероприятия...</td>\n",
       "      <td>None</td>\n",
       "      <td>124200.0</td>\n",
       "      <td>26.2</td>\n",
       "      <td>Устройства запоминающие внешние</td>\n",
       "      <td>None</td>\n",
       "      <td>None</td>\n",
       "      <td>Устройства запоминающие внешние</td>\n",
       "      <td>26.2</td>\n",
       "      <td>приобретение призов для проведения мероприятия...</td>\n",
       "    </tr>\n",
       "  </tbody>\n",
       "</table>\n",
       "</div>"
      ],
      "text/plain": [
       "      pn_lot_anon    fz  region_code min_publish_date  \\\n",
       "0  pn_lot_7031618  44fz            2       2019-08-26   \n",
       "1  pn_lot_7808247  44fz            2       2019-03-12   \n",
       "2  pn_lot_7009496  44fz            2       2019-03-14   \n",
       "\n",
       "                                       purchase_name lot_name  lot_price  \\\n",
       "0            Услуги по проведению финансового аудита     None   123500.0   \n",
       "1  Приобретение призов для проведения конкурса по...     None   144000.0   \n",
       "2  приобретение призов для проведения мероприятия...     None   124200.0   \n",
       "\n",
       "  okpd2_code                                        okpd2_names  \\\n",
       "0       69.2            Услуги по проведению финансового аудита   \n",
       "1       26.4  Телефоны головные, наушники и комбинированные ...   \n",
       "2       26.2                    Устройства запоминающие внешние   \n",
       "\n",
       "  additional_code additional_code_names  \\\n",
       "0            None                  None   \n",
       "1            None                  None   \n",
       "2            None                  None   \n",
       "\n",
       "                                   item_descriptions okpd2_or_additional_code  \\\n",
       "0           Услуги по проведению финансового аудита                      69.2   \n",
       "1  Телефоны головные, наушники и комбинированные ...                     26.4   \n",
       "2                   Устройства запоминающие внешние                      26.2   \n",
       "\n",
       "                             text_description_tender  \n",
       "0  Услуги по проведению финансового аудита None У...  \n",
       "1  Приобретение призов для проведения конкурса по...  \n",
       "2  приобретение призов для проведения мероприятия...  "
      ]
     },
     "execution_count": 10,
     "metadata": {},
     "output_type": "execute_result"
    }
   ],
   "source": [
    "train_data.head(3)"
   ]
  },
  {
   "cell_type": "markdown",
   "metadata": {},
   "source": [
    "#### Работа с историей участий поставщика"
   ]
  },
  {
   "cell_type": "code",
   "execution_count": 21,
   "metadata": {},
   "outputs": [],
   "source": [
    "inn_kpp_history = pd.merge(train_labels, train_data[['pn_lot_anon','region_code', 'okpd2_or_additional_code']], on=['pn_lot_anon'])"
   ]
  },
  {
   "cell_type": "code",
   "execution_count": 22,
   "metadata": {},
   "outputs": [
    {
     "data": {
      "text/html": [
       "<div>\n",
       "<style scoped>\n",
       "    .dataframe tbody tr th:only-of-type {\n",
       "        vertical-align: middle;\n",
       "    }\n",
       "\n",
       "    .dataframe tbody tr th {\n",
       "        vertical-align: top;\n",
       "    }\n",
       "\n",
       "    .dataframe thead th {\n",
       "        text-align: right;\n",
       "    }\n",
       "</style>\n",
       "<table border=\"1\" class=\"dataframe\">\n",
       "  <thead>\n",
       "    <tr style=\"text-align: right;\">\n",
       "      <th></th>\n",
       "      <th>pn_lot_anon</th>\n",
       "      <th>participant_inn_kpp_anon</th>\n",
       "      <th>is_winner</th>\n",
       "      <th>fz</th>\n",
       "      <th>region_code</th>\n",
       "      <th>okpd2_or_additional_code</th>\n",
       "    </tr>\n",
       "  </thead>\n",
       "  <tbody>\n",
       "    <tr>\n",
       "      <th>0</th>\n",
       "      <td>pn_lot_1770702</td>\n",
       "      <td>inn_kpp_3661899</td>\n",
       "      <td>1</td>\n",
       "      <td>44fz</td>\n",
       "      <td>1</td>\n",
       "      <td>42.1</td>\n",
       "    </tr>\n",
       "    <tr>\n",
       "      <th>1</th>\n",
       "      <td>pn_lot_1058704</td>\n",
       "      <td>inn_kpp_3661899</td>\n",
       "      <td>1</td>\n",
       "      <td>44fz</td>\n",
       "      <td>1</td>\n",
       "      <td>42.9</td>\n",
       "    </tr>\n",
       "    <tr>\n",
       "      <th>2</th>\n",
       "      <td>pn_lot_4186044</td>\n",
       "      <td>inn_kpp_3661899</td>\n",
       "      <td>1</td>\n",
       "      <td>44fz</td>\n",
       "      <td>1</td>\n",
       "      <td>42.1</td>\n",
       "    </tr>\n",
       "    <tr>\n",
       "      <th>3</th>\n",
       "      <td>pn_lot_6882961</td>\n",
       "      <td>inn_kpp_3661899</td>\n",
       "      <td>1</td>\n",
       "      <td>44fz</td>\n",
       "      <td>1</td>\n",
       "      <td>42.9</td>\n",
       "    </tr>\n",
       "    <tr>\n",
       "      <th>4</th>\n",
       "      <td>pn_lot_5821609</td>\n",
       "      <td>inn_kpp_3661899</td>\n",
       "      <td>1</td>\n",
       "      <td>44fz</td>\n",
       "      <td>1</td>\n",
       "      <td>42.1</td>\n",
       "    </tr>\n",
       "  </tbody>\n",
       "</table>\n",
       "</div>"
      ],
      "text/plain": [
       "      pn_lot_anon participant_inn_kpp_anon  is_winner    fz  region_code  \\\n",
       "0  pn_lot_1770702          inn_kpp_3661899          1  44fz            1   \n",
       "1  pn_lot_1058704          inn_kpp_3661899          1  44fz            1   \n",
       "2  pn_lot_4186044          inn_kpp_3661899          1  44fz            1   \n",
       "3  pn_lot_6882961          inn_kpp_3661899          1  44fz            1   \n",
       "4  pn_lot_5821609          inn_kpp_3661899          1  44fz            1   \n",
       "\n",
       "  okpd2_or_additional_code  \n",
       "0                     42.1  \n",
       "1                     42.9  \n",
       "2                     42.1  \n",
       "3                     42.9  \n",
       "4                     42.1  "
      ]
     },
     "execution_count": 22,
     "metadata": {},
     "output_type": "execute_result"
    }
   ],
   "source": [
    "inn_kpp_history.head()"
   ]
  },
  {
   "cell_type": "code",
   "execution_count": 23,
   "metadata": {},
   "outputs": [],
   "source": [
    "#группировка по поставщику \n",
    "inn_kpp_history = inn_kpp_history.groupby('participant_inn_kpp_anon').apply(lambda x: [\n",
    "    list(x['pn_lot_anon']),\n",
    "    list(x['is_winner']), \n",
    "    list(x['fz']), \n",
    "    list(x['region_code']), \n",
    "    list(x['okpd2_or_additional_code'])]).apply(pd.Series)"
   ]
  },
  {
   "cell_type": "code",
   "execution_count": 24,
   "metadata": {},
   "outputs": [],
   "source": [
    "inn_kpp_history = inn_kpp_history.reset_index()\n",
    "inn_kpp_history.columns = ['participant_inn_kpp_anon', 'list_pn_lot_anon',\n",
    "                           'list_is_winner', 'list_fz', 'list_region_code',\n",
    "                           'list_okpd2_or_additional_code']"
   ]
  },
  {
   "cell_type": "code",
   "execution_count": 25,
   "metadata": {},
   "outputs": [
    {
     "data": {
      "text/html": [
       "<div>\n",
       "<style scoped>\n",
       "    .dataframe tbody tr th:only-of-type {\n",
       "        vertical-align: middle;\n",
       "    }\n",
       "\n",
       "    .dataframe tbody tr th {\n",
       "        vertical-align: top;\n",
       "    }\n",
       "\n",
       "    .dataframe thead th {\n",
       "        text-align: right;\n",
       "    }\n",
       "</style>\n",
       "<table border=\"1\" class=\"dataframe\">\n",
       "  <thead>\n",
       "    <tr style=\"text-align: right;\">\n",
       "      <th></th>\n",
       "      <th>participant_inn_kpp_anon</th>\n",
       "      <th>list_pn_lot_anon</th>\n",
       "      <th>list_is_winner</th>\n",
       "      <th>list_fz</th>\n",
       "      <th>list_region_code</th>\n",
       "      <th>list_okpd2_or_additional_code</th>\n",
       "    </tr>\n",
       "  </thead>\n",
       "  <tbody>\n",
       "    <tr>\n",
       "      <th>0</th>\n",
       "      <td>inn_kpp_1000018</td>\n",
       "      <td>[pn_lot_5330449, pn_lot_648665, pn_lot_81155, ...</td>\n",
       "      <td>[0, 0, 0, 1, 1, 1, 1, 1, 0, 0, 0, 1, 1, 1, 1, ...</td>\n",
       "      <td>[44fz, 44fz, 44fz, 44fz, 44fz, 44fz, 44fz, 44f...</td>\n",
       "      <td>[64, 50, 50, 77, 50, 64, 77, 77, 77, 77, 50, 7...</td>\n",
       "      <td>[58.2, 26.2, 26.4, 26.3, 26.2, 58.2, 26.2, 27....</td>\n",
       "    </tr>\n",
       "    <tr>\n",
       "      <th>1</th>\n",
       "      <td>inn_kpp_1001268</td>\n",
       "      <td>[pn_lot_7608031, pn_lot_9976372, pn_lot_671651...</td>\n",
       "      <td>[1, 1, 1, 1, 0, 0, 1, 0, 1, 1, 1, 1, 1, 0, 1, ...</td>\n",
       "      <td>[44fz, 44fz, 44fz, 44fz, 44fz, 44fz, 44fz, 44f...</td>\n",
       "      <td>[77, 79, 79, 79, 79, 27, 79, 79, 79, 79, 79, 7...</td>\n",
       "      <td>[86.9, 86.1, 86.2, 86.9, 86.9, 86.9, 86.9, 86....</td>\n",
       "    </tr>\n",
       "    <tr>\n",
       "      <th>2</th>\n",
       "      <td>inn_kpp_1002518</td>\n",
       "      <td>[pn_lot_5287076, pn_lot_7474816, pn_lot_121000...</td>\n",
       "      <td>[0, 0, 1, 1, 0, 0, 1, 1, 1, 0, 0, 1, 0, 0, 0, ...</td>\n",
       "      <td>[44fz, 44fz, 44fz, 44fz, 44fz, 44fz, 44fz, 44f...</td>\n",
       "      <td>[41, 27, 82, 65, 65, 65, 41, 41, 41, 41, 82, 4...</td>\n",
       "      <td>[30.3, 27.1, 27.1, 25.1, 30.9, 29.2, 25.9, 25....</td>\n",
       "    </tr>\n",
       "    <tr>\n",
       "      <th>3</th>\n",
       "      <td>inn_kpp_1003261</td>\n",
       "      <td>[pn_lot_2647783]</td>\n",
       "      <td>[1]</td>\n",
       "      <td>[223fz]</td>\n",
       "      <td>[54]</td>\n",
       "      <td>[28.2]</td>\n",
       "    </tr>\n",
       "    <tr>\n",
       "      <th>4</th>\n",
       "      <td>inn_kpp_1003291</td>\n",
       "      <td>[pn_lot_7794721, pn_lot_4767800, pn_lot_915979...</td>\n",
       "      <td>[0, 1, 1, 1, 1, 1, 1, 1, 1, 1, 1, 1, 1, 1, 0, ...</td>\n",
       "      <td>[44fz, 44fz, 44fz, 44fz, 44fz, 44fz, 44fz, 44f...</td>\n",
       "      <td>[50, 12, 50, 50, 51, 69, 11, 12, 11, 12, 12, 1...</td>\n",
       "      <td>[32.5, 32.5, 32.5, 32.5, 32.5, 32.5, 32.5, 21....</td>\n",
       "    </tr>\n",
       "  </tbody>\n",
       "</table>\n",
       "</div>"
      ],
      "text/plain": [
       "  participant_inn_kpp_anon                                   list_pn_lot_anon  \\\n",
       "0          inn_kpp_1000018  [pn_lot_5330449, pn_lot_648665, pn_lot_81155, ...   \n",
       "1          inn_kpp_1001268  [pn_lot_7608031, pn_lot_9976372, pn_lot_671651...   \n",
       "2          inn_kpp_1002518  [pn_lot_5287076, pn_lot_7474816, pn_lot_121000...   \n",
       "3          inn_kpp_1003261                                   [pn_lot_2647783]   \n",
       "4          inn_kpp_1003291  [pn_lot_7794721, pn_lot_4767800, pn_lot_915979...   \n",
       "\n",
       "                                      list_is_winner  \\\n",
       "0  [0, 0, 0, 1, 1, 1, 1, 1, 0, 0, 0, 1, 1, 1, 1, ...   \n",
       "1  [1, 1, 1, 1, 0, 0, 1, 0, 1, 1, 1, 1, 1, 0, 1, ...   \n",
       "2  [0, 0, 1, 1, 0, 0, 1, 1, 1, 0, 0, 1, 0, 0, 0, ...   \n",
       "3                                                [1]   \n",
       "4  [0, 1, 1, 1, 1, 1, 1, 1, 1, 1, 1, 1, 1, 1, 0, ...   \n",
       "\n",
       "                                             list_fz  \\\n",
       "0  [44fz, 44fz, 44fz, 44fz, 44fz, 44fz, 44fz, 44f...   \n",
       "1  [44fz, 44fz, 44fz, 44fz, 44fz, 44fz, 44fz, 44f...   \n",
       "2  [44fz, 44fz, 44fz, 44fz, 44fz, 44fz, 44fz, 44f...   \n",
       "3                                            [223fz]   \n",
       "4  [44fz, 44fz, 44fz, 44fz, 44fz, 44fz, 44fz, 44f...   \n",
       "\n",
       "                                    list_region_code  \\\n",
       "0  [64, 50, 50, 77, 50, 64, 77, 77, 77, 77, 50, 7...   \n",
       "1  [77, 79, 79, 79, 79, 27, 79, 79, 79, 79, 79, 7...   \n",
       "2  [41, 27, 82, 65, 65, 65, 41, 41, 41, 41, 82, 4...   \n",
       "3                                               [54]   \n",
       "4  [50, 12, 50, 50, 51, 69, 11, 12, 11, 12, 12, 1...   \n",
       "\n",
       "                       list_okpd2_or_additional_code  \n",
       "0  [58.2, 26.2, 26.4, 26.3, 26.2, 58.2, 26.2, 27....  \n",
       "1  [86.9, 86.1, 86.2, 86.9, 86.9, 86.9, 86.9, 86....  \n",
       "2  [30.3, 27.1, 27.1, 25.1, 30.9, 29.2, 25.9, 25....  \n",
       "3                                             [28.2]  \n",
       "4  [32.5, 32.5, 32.5, 32.5, 32.5, 32.5, 32.5, 21....  "
      ]
     },
     "execution_count": 25,
     "metadata": {},
     "output_type": "execute_result"
    }
   ],
   "source": [
    "inn_kpp_history.head()"
   ]
  },
  {
   "cell_type": "markdown",
   "metadata": {},
   "source": [
    "#### Рекомендательная система"
   ]
  },
  {
   "cell_type": "markdown",
   "metadata": {},
   "source": [
    "Выбирается 35 случайный процедур из подвыборки с совпадением региона и ОКПД2 кода актуальной процедуры с регионами и ОКПД2 кодами из истории участия поставщика"
   ]
  },
  {
   "cell_type": "code",
   "execution_count": 16,
   "metadata": {
    "scrolled": true
   },
   "outputs": [
    {
     "data": {
      "application/vnd.jupyter.widget-view+json": {
       "model_id": "bf846ad47a494fe0a4775375ef76580b",
       "version_major": 2,
       "version_minor": 0
      },
      "text/plain": [
       "HBox(children=(FloatProgress(value=0.0, max=16499.0), HTML(value='')))"
      ]
     },
     "metadata": {},
     "output_type": "display_data"
    },
    {
     "name": "stdout",
     "output_type": "stream",
     "text": [
      "\n"
     ]
    }
   ],
   "source": [
    "inn_kpp_recommendation = []\n",
    "similarity_score = 1\n",
    "for inn_kpp in tqdm_notebook(inn_kpp_history.values):\n",
    "    participant_inn_kpp_anon, list_participant_inn_kpp_anon, list_is_winner, list_fz, list_region_code, list_okpd2_or_additional_code = inn_kpp\n",
    "    #подвыборка с совпадением региона и ОКПД2 кода актуальной с историей поставщика\n",
    "    recommendation = test_data[test_data['region_code'].isin(list_region_code) & test_data['okpd2_or_additional_code'].isin(list_okpd2_or_additional_code)]\n",
    "    if recommendation.shape[0] >= 35:\n",
    "        #выбор 35 случайных актуальных процедур из подвыборки\n",
    "        recommendation = recommendation.sample(35)['pn_lot_anon'].values\n",
    "        for actual_pn_lot in recommendation:\n",
    "            inn_kpp_recommendation.append([participant_inn_kpp_anon, actual_pn_lot, similarity_score])"
   ]
  },
  {
   "cell_type": "markdown",
   "metadata": {},
   "source": [
    "#### Пример формирования файла рекомендаций"
   ]
  },
  {
   "cell_type": "code",
   "execution_count": 17,
   "metadata": {},
   "outputs": [],
   "source": [
    "recommendation = pd.DataFrame(inn_kpp_recommendation, columns=['inn_kpp', 'actual_recommended_pn_lot', 'similarity_score'])\n",
    "recommendation.to_csv(\"team_name.csv\", index=False, sep=';')"
   ]
  },
  {
   "cell_type": "code",
   "execution_count": 18,
   "metadata": {},
   "outputs": [
    {
     "data": {
      "text/html": [
       "<div>\n",
       "<style scoped>\n",
       "    .dataframe tbody tr th:only-of-type {\n",
       "        vertical-align: middle;\n",
       "    }\n",
       "\n",
       "    .dataframe tbody tr th {\n",
       "        vertical-align: top;\n",
       "    }\n",
       "\n",
       "    .dataframe thead th {\n",
       "        text-align: right;\n",
       "    }\n",
       "</style>\n",
       "<table border=\"1\" class=\"dataframe\">\n",
       "  <thead>\n",
       "    <tr style=\"text-align: right;\">\n",
       "      <th></th>\n",
       "      <th>inn_kpp</th>\n",
       "      <th>actual_recommended_pn_lot</th>\n",
       "      <th>similarity_score</th>\n",
       "    </tr>\n",
       "  </thead>\n",
       "  <tbody>\n",
       "    <tr>\n",
       "      <th>0</th>\n",
       "      <td>inn_kpp_1000018</td>\n",
       "      <td>pn_lot_2745501</td>\n",
       "      <td>1</td>\n",
       "    </tr>\n",
       "    <tr>\n",
       "      <th>1</th>\n",
       "      <td>inn_kpp_1000018</td>\n",
       "      <td>pn_lot_5989719</td>\n",
       "      <td>1</td>\n",
       "    </tr>\n",
       "    <tr>\n",
       "      <th>2</th>\n",
       "      <td>inn_kpp_1000018</td>\n",
       "      <td>pn_lot_113068</td>\n",
       "      <td>1</td>\n",
       "    </tr>\n",
       "    <tr>\n",
       "      <th>3</th>\n",
       "      <td>inn_kpp_1000018</td>\n",
       "      <td>pn_lot_6384714</td>\n",
       "      <td>1</td>\n",
       "    </tr>\n",
       "    <tr>\n",
       "      <th>4</th>\n",
       "      <td>inn_kpp_1000018</td>\n",
       "      <td>pn_lot_522774</td>\n",
       "      <td>1</td>\n",
       "    </tr>\n",
       "    <tr>\n",
       "      <th>...</th>\n",
       "      <td>...</td>\n",
       "      <td>...</td>\n",
       "      <td>...</td>\n",
       "    </tr>\n",
       "    <tr>\n",
       "      <th>452020</th>\n",
       "      <td>inn_kpp_9999743</td>\n",
       "      <td>pn_lot_5500843</td>\n",
       "      <td>1</td>\n",
       "    </tr>\n",
       "    <tr>\n",
       "      <th>452021</th>\n",
       "      <td>inn_kpp_9999743</td>\n",
       "      <td>pn_lot_2220520</td>\n",
       "      <td>1</td>\n",
       "    </tr>\n",
       "    <tr>\n",
       "      <th>452022</th>\n",
       "      <td>inn_kpp_9999743</td>\n",
       "      <td>pn_lot_576603</td>\n",
       "      <td>1</td>\n",
       "    </tr>\n",
       "    <tr>\n",
       "      <th>452023</th>\n",
       "      <td>inn_kpp_9999743</td>\n",
       "      <td>pn_lot_7726061</td>\n",
       "      <td>1</td>\n",
       "    </tr>\n",
       "    <tr>\n",
       "      <th>452024</th>\n",
       "      <td>inn_kpp_9999743</td>\n",
       "      <td>pn_lot_3374171</td>\n",
       "      <td>1</td>\n",
       "    </tr>\n",
       "  </tbody>\n",
       "</table>\n",
       "<p>452025 rows × 3 columns</p>\n",
       "</div>"
      ],
      "text/plain": [
       "                inn_kpp actual_recommended_pn_lot  similarity_score\n",
       "0       inn_kpp_1000018            pn_lot_2745501                 1\n",
       "1       inn_kpp_1000018            pn_lot_5989719                 1\n",
       "2       inn_kpp_1000018             pn_lot_113068                 1\n",
       "3       inn_kpp_1000018            pn_lot_6384714                 1\n",
       "4       inn_kpp_1000018             pn_lot_522774                 1\n",
       "...                 ...                       ...               ...\n",
       "452020  inn_kpp_9999743            pn_lot_5500843                 1\n",
       "452021  inn_kpp_9999743            pn_lot_2220520                 1\n",
       "452022  inn_kpp_9999743             pn_lot_576603                 1\n",
       "452023  inn_kpp_9999743            pn_lot_7726061                 1\n",
       "452024  inn_kpp_9999743            pn_lot_3374171                 1\n",
       "\n",
       "[452025 rows x 3 columns]"
      ]
     },
     "execution_count": 18,
     "metadata": {},
     "output_type": "execute_result"
    }
   ],
   "source": [
    "recommendation"
   ]
  },
  {
   "cell_type": "markdown",
   "metadata": {},
   "source": [
    "# Подсчёт метрик"
   ]
  },
  {
   "cell_type": "code",
   "execution_count": 30,
   "metadata": {},
   "outputs": [],
   "source": [
    "test_labels = pd.read_csv(\"ваша тестирующая выборка\", sep=';')"
   ]
  },
  {
   "cell_type": "code",
   "execution_count": 31,
   "metadata": {},
   "outputs": [],
   "source": [
    "true = set((test_labels['pn_lot_anon'] + \"_\" + test_labels['participant_inn_kpp_anon']).values)"
   ]
  },
  {
   "cell_type": "code",
   "execution_count": 32,
   "metadata": {},
   "outputs": [],
   "source": [
    "pred = set((recommendation['actual_recommended_pn_lot'] + \"_\" + recommendation['inn_kpp']).values)"
   ]
  },
  {
   "cell_type": "code",
   "execution_count": 33,
   "metadata": {},
   "outputs": [],
   "source": [
    "intersection = len(true.intersection(pred))"
   ]
  },
  {
   "cell_type": "code",
   "execution_count": 36,
   "metadata": {},
   "outputs": [
    {
     "name": "stdout",
     "output_type": "stream",
     "text": [
      "Точность: 1.537968032741552\n",
      "Полнота: 6.389999540420057\n"
     ]
    }
   ],
   "source": [
    "print(f\"Точность: {intersection / len(pred) * 100}\")\n",
    "print(f\"Полнота: {intersection / len(true) * 100}\")"
   ]
  }
 ],
 "metadata": {
  "kernelspec": {
   "display_name": "Python 3",
   "language": "python",
   "name": "python3"
  },
  "language_info": {
   "codemirror_mode": {
    "name": "ipython",
    "version": 3
   },
   "file_extension": ".py",
   "mimetype": "text/x-python",
   "name": "python",
   "nbconvert_exporter": "python",
   "pygments_lexer": "ipython3",
   "version": "3.8.3"
  }
 },
 "nbformat": 4,
 "nbformat_minor": 4
}
